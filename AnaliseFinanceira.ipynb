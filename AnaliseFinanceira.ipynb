{
 "cells": [
  {
   "cell_type": "code",
   "execution_count": 6,
   "id": "10ea17df",
   "metadata": {},
   "outputs": [],
   "source": [
    "pip install mplcyberpunk"
   ]
  },
  {
   "cell_type": "code",
   "execution_count": 1,
   "id": "6aa734d3",
   "metadata": {},
   "outputs": [],
   "source": [
    "import pandas as pd\n",
    "import matplotlib.pyplot as plt\n",
    "import matplotlib.ticker as mtick\n",
    "import matplotlib.dates as mdates\n",
    "import mplcyberpunk\n",
    "import plotly.express as px\n",
    "from datetime import datetime\n",
    "import numpy as np\n",
    "from statistics import median\n",
    "from math import isnan\n",
    "from itertools import filterfalse\n",
    "#from fpdf import FPDF\n",
    "from matplotlib.dates import date2num"
   ]
  },
  {
   "cell_type": "markdown",
   "id": "4283d3a4",
   "metadata": {},
   "source": [
    "# Tratando os dados e criando um Data Frame"
   ]
  },
  {
   "cell_type": "code",
   "execution_count": 2,
   "id": "2ffb910b",
   "metadata": {},
   "outputs": [],
   "source": [
    "def reading_ext():\n",
    "    \n",
    "        extratos = [] \n",
    "        end_ext = (r'C:\\Este computador\\Documentos\\Extrato\\Extrato-inter-alan')\n",
    "        meses_ano = {1:'JANEIRO',2:'FEVEREIRO',3:'MARÇO',\n",
    "                     4:'ABRIL',5:'MAIO',6:'JUNHO',\n",
    "                     7:'JULHO',8:'AGOSTO',9:'SETEMBRO',\n",
    "                     10:'OUTUBRO',11:'NOVEMBRO',12:'DEZEMBRO'} \n",
    "        hoje = float(datetime.today().strftime('%m'))-1\n",
    "        \n",
    "        for mes in meses_ano:\n",
    "            \n",
    "            if (hoje >= mes):\n",
    "                \n",
    "                ext = pd.read_csv(end_ext.format(mes,meses_ano[mes]))\n",
    "                extratos.append(ext)\n",
    "                \n",
    "            else:\n",
    "                \n",
    "                break\n",
    "                \n",
    "        return extratos "
   ]
  },
  {
   "cell_type": "code",
   "execution_count": 3,
   "id": "5de73d40",
   "metadata": {},
   "outputs": [],
   "source": [
    "def amount():\n",
    "        \n",
    "        meses = [0,1,2]\n",
    "        valor = 0\n",
    "        amount = []\n",
    "        \n",
    "        for mes in meses:\n",
    "            \n",
    "            extratos = reading_ext()[mes]\n",
    "            \n",
    "            x = len(extratos.index)\n",
    "            z = 0\n",
    "            \n",
    "            while (z < x):\n",
    "                \n",
    "                valor = extratos.at[z,'amount']\n",
    "                amount.append(valor)\n",
    "                z += 1\n",
    "                \n",
    "        return amount"
   ]
  },
  {
   "cell_type": "code",
   "execution_count": 4,
   "id": "a7ab576b",
   "metadata": {},
   "outputs": [],
   "source": [
    "def category():\n",
    "    \n",
    "        meses = [0,1,2]\n",
    "        category = []\n",
    "        label = ''\n",
    "            \n",
    "        for mes in meses:\n",
    "            \n",
    "            extratos = reading_ext()[mes]\n",
    "            \n",
    "            x = len(extratos.index)\n",
    "            z = 0\n",
    "            \n",
    "            while (z < x):\n",
    "                \n",
    "                label = extratos.at[z,'category']\n",
    "                category.append(label)\n",
    "                z += 1\n",
    "                \n",
    "        return category"
   ]
  },
  {
   "cell_type": "code",
   "execution_count": 5,
   "id": "7f8997c8",
   "metadata": {},
   "outputs": [],
   "source": [
    "def index():\n",
    "        \n",
    "        meses = [0,1,2]\n",
    "        index = []\n",
    "        index_ex = []\n",
    "        \n",
    "        for mes in meses:\n",
    "            \n",
    "            index_mes = len(reading_ext()[mes].index)\n",
    "            index.append(index_mes)\n",
    "            \n",
    "        i = sum(index)\n",
    "        z = 0\n",
    "\n",
    "        while (z < i):\n",
    "            \n",
    "            index_ex.append(z)\n",
    "            z += 1\n",
    "            \n",
    "        return index_ex"
   ]
  },
  {
   "cell_type": "code",
   "execution_count": 6,
   "id": "c23525a8",
   "metadata": {},
   "outputs": [],
   "source": [
    " def data_frame():\n",
    "        \n",
    "        df = pd.DataFrame({'Categoria': category(),\n",
    "                      'Valor': amount()},\n",
    "                      index = index())\n",
    "        \n",
    "        return df"
   ]
  },
  {
   "cell_type": "markdown",
   "id": "2db4dad7",
   "metadata": {},
   "source": [
    "# Reconhecimento superficial da distribuição dos dados"
   ]
  },
  {
   "cell_type": "code",
   "execution_count": 9,
   "id": "39a77225",
   "metadata": {},
   "outputs": [
    {
     "ename": "FileNotFoundError",
     "evalue": "[Errno 2] No such file or directory: ''",
     "output_type": "error",
     "traceback": [
      "\u001b[1;31m---------------------------------------------------------------------------\u001b[0m",
      "\u001b[1;31mFileNotFoundError\u001b[0m                         Traceback (most recent call last)",
      "Cell \u001b[1;32mIn[9], line 1\u001b[0m\n\u001b[1;32m----> 1\u001b[0m extrato \u001b[38;5;241m=\u001b[39m data_frame()\u001b[38;5;241m.\u001b[39mdrop(data_frame()\u001b[38;5;241m.\u001b[39mindex[[\u001b[38;5;241m2\u001b[39m, \u001b[38;5;241m60\u001b[39m, \u001b[38;5;241m69\u001b[39m, \u001b[38;5;241m72\u001b[39m, \u001b[38;5;241m74\u001b[39m, \u001b[38;5;241m78\u001b[39m, \u001b[38;5;241m87\u001b[39m]])\n\u001b[0;32m      2\u001b[0m extrato\u001b[38;5;241m.\u001b[39mhead()\n",
      "Cell \u001b[1;32mIn[6], line 3\u001b[0m, in \u001b[0;36mdata_frame\u001b[1;34m()\u001b[0m\n\u001b[0;32m      1\u001b[0m \u001b[38;5;28;01mdef\u001b[39;00m \u001b[38;5;21mdata_frame\u001b[39m():\n\u001b[1;32m----> 3\u001b[0m        df \u001b[38;5;241m=\u001b[39m pd\u001b[38;5;241m.\u001b[39mDataFrame({\u001b[38;5;124m'\u001b[39m\u001b[38;5;124mCategoria\u001b[39m\u001b[38;5;124m'\u001b[39m: category(),\n\u001b[0;32m      4\u001b[0m                      \u001b[38;5;124m'\u001b[39m\u001b[38;5;124mValor\u001b[39m\u001b[38;5;124m'\u001b[39m: amount()},\n\u001b[0;32m      5\u001b[0m                      index \u001b[38;5;241m=\u001b[39m index())\n\u001b[0;32m      7\u001b[0m        \u001b[38;5;28;01mreturn\u001b[39;00m df\n",
      "Cell \u001b[1;32mIn[4], line 9\u001b[0m, in \u001b[0;36mcategory\u001b[1;34m()\u001b[0m\n\u001b[0;32m      5\u001b[0m label \u001b[38;5;241m=\u001b[39m \u001b[38;5;124m'\u001b[39m\u001b[38;5;124m'\u001b[39m\n\u001b[0;32m      7\u001b[0m \u001b[38;5;28;01mfor\u001b[39;00m mes \u001b[38;5;129;01min\u001b[39;00m meses:\n\u001b[1;32m----> 9\u001b[0m     extratos \u001b[38;5;241m=\u001b[39m reading_ext()[mes]\n\u001b[0;32m     11\u001b[0m     x \u001b[38;5;241m=\u001b[39m \u001b[38;5;28mlen\u001b[39m(extratos\u001b[38;5;241m.\u001b[39mindex)\n\u001b[0;32m     12\u001b[0m     z \u001b[38;5;241m=\u001b[39m \u001b[38;5;241m0\u001b[39m\n",
      "Cell \u001b[1;32mIn[2], line 15\u001b[0m, in \u001b[0;36mreading_ext\u001b[1;34m()\u001b[0m\n\u001b[0;32m     11\u001b[0m \u001b[38;5;28;01mfor\u001b[39;00m mes \u001b[38;5;129;01min\u001b[39;00m meses_ano:\n\u001b[0;32m     13\u001b[0m     \u001b[38;5;28;01mif\u001b[39;00m (hoje \u001b[38;5;241m>\u001b[39m\u001b[38;5;241m=\u001b[39m mes):\n\u001b[1;32m---> 15\u001b[0m         ext \u001b[38;5;241m=\u001b[39m pd\u001b[38;5;241m.\u001b[39mread_csv(end_ext\u001b[38;5;241m.\u001b[39mformat(mes,meses_ano[mes]))\n\u001b[0;32m     16\u001b[0m         extratos\u001b[38;5;241m.\u001b[39mappend(ext)\n\u001b[0;32m     18\u001b[0m     \u001b[38;5;28;01melse\u001b[39;00m:\n",
      "File \u001b[1;32m~\\anaconda3\\Lib\\site-packages\\pandas\\io\\parsers\\readers.py:912\u001b[0m, in \u001b[0;36mread_csv\u001b[1;34m(filepath_or_buffer, sep, delimiter, header, names, index_col, usecols, dtype, engine, converters, true_values, false_values, skipinitialspace, skiprows, skipfooter, nrows, na_values, keep_default_na, na_filter, verbose, skip_blank_lines, parse_dates, infer_datetime_format, keep_date_col, date_parser, date_format, dayfirst, cache_dates, iterator, chunksize, compression, thousands, decimal, lineterminator, quotechar, quoting, doublequote, escapechar, comment, encoding, encoding_errors, dialect, on_bad_lines, delim_whitespace, low_memory, memory_map, float_precision, storage_options, dtype_backend)\u001b[0m\n\u001b[0;32m    899\u001b[0m kwds_defaults \u001b[38;5;241m=\u001b[39m _refine_defaults_read(\n\u001b[0;32m    900\u001b[0m     dialect,\n\u001b[0;32m    901\u001b[0m     delimiter,\n\u001b[1;32m   (...)\u001b[0m\n\u001b[0;32m    908\u001b[0m     dtype_backend\u001b[38;5;241m=\u001b[39mdtype_backend,\n\u001b[0;32m    909\u001b[0m )\n\u001b[0;32m    910\u001b[0m kwds\u001b[38;5;241m.\u001b[39mupdate(kwds_defaults)\n\u001b[1;32m--> 912\u001b[0m \u001b[38;5;28;01mreturn\u001b[39;00m _read(filepath_or_buffer, kwds)\n",
      "File \u001b[1;32m~\\anaconda3\\Lib\\site-packages\\pandas\\io\\parsers\\readers.py:577\u001b[0m, in \u001b[0;36m_read\u001b[1;34m(filepath_or_buffer, kwds)\u001b[0m\n\u001b[0;32m    574\u001b[0m _validate_names(kwds\u001b[38;5;241m.\u001b[39mget(\u001b[38;5;124m\"\u001b[39m\u001b[38;5;124mnames\u001b[39m\u001b[38;5;124m\"\u001b[39m, \u001b[38;5;28;01mNone\u001b[39;00m))\n\u001b[0;32m    576\u001b[0m \u001b[38;5;66;03m# Create the parser.\u001b[39;00m\n\u001b[1;32m--> 577\u001b[0m parser \u001b[38;5;241m=\u001b[39m TextFileReader(filepath_or_buffer, \u001b[38;5;241m*\u001b[39m\u001b[38;5;241m*\u001b[39mkwds)\n\u001b[0;32m    579\u001b[0m \u001b[38;5;28;01mif\u001b[39;00m chunksize \u001b[38;5;129;01mor\u001b[39;00m iterator:\n\u001b[0;32m    580\u001b[0m     \u001b[38;5;28;01mreturn\u001b[39;00m parser\n",
      "File \u001b[1;32m~\\anaconda3\\Lib\\site-packages\\pandas\\io\\parsers\\readers.py:1407\u001b[0m, in \u001b[0;36mTextFileReader.__init__\u001b[1;34m(self, f, engine, **kwds)\u001b[0m\n\u001b[0;32m   1404\u001b[0m     \u001b[38;5;28mself\u001b[39m\u001b[38;5;241m.\u001b[39moptions[\u001b[38;5;124m\"\u001b[39m\u001b[38;5;124mhas_index_names\u001b[39m\u001b[38;5;124m\"\u001b[39m] \u001b[38;5;241m=\u001b[39m kwds[\u001b[38;5;124m\"\u001b[39m\u001b[38;5;124mhas_index_names\u001b[39m\u001b[38;5;124m\"\u001b[39m]\n\u001b[0;32m   1406\u001b[0m \u001b[38;5;28mself\u001b[39m\u001b[38;5;241m.\u001b[39mhandles: IOHandles \u001b[38;5;241m|\u001b[39m \u001b[38;5;28;01mNone\u001b[39;00m \u001b[38;5;241m=\u001b[39m \u001b[38;5;28;01mNone\u001b[39;00m\n\u001b[1;32m-> 1407\u001b[0m \u001b[38;5;28mself\u001b[39m\u001b[38;5;241m.\u001b[39m_engine \u001b[38;5;241m=\u001b[39m \u001b[38;5;28mself\u001b[39m\u001b[38;5;241m.\u001b[39m_make_engine(f, \u001b[38;5;28mself\u001b[39m\u001b[38;5;241m.\u001b[39mengine)\n",
      "File \u001b[1;32m~\\anaconda3\\Lib\\site-packages\\pandas\\io\\parsers\\readers.py:1661\u001b[0m, in \u001b[0;36mTextFileReader._make_engine\u001b[1;34m(self, f, engine)\u001b[0m\n\u001b[0;32m   1659\u001b[0m     \u001b[38;5;28;01mif\u001b[39;00m \u001b[38;5;124m\"\u001b[39m\u001b[38;5;124mb\u001b[39m\u001b[38;5;124m\"\u001b[39m \u001b[38;5;129;01mnot\u001b[39;00m \u001b[38;5;129;01min\u001b[39;00m mode:\n\u001b[0;32m   1660\u001b[0m         mode \u001b[38;5;241m+\u001b[39m\u001b[38;5;241m=\u001b[39m \u001b[38;5;124m\"\u001b[39m\u001b[38;5;124mb\u001b[39m\u001b[38;5;124m\"\u001b[39m\n\u001b[1;32m-> 1661\u001b[0m \u001b[38;5;28mself\u001b[39m\u001b[38;5;241m.\u001b[39mhandles \u001b[38;5;241m=\u001b[39m get_handle(\n\u001b[0;32m   1662\u001b[0m     f,\n\u001b[0;32m   1663\u001b[0m     mode,\n\u001b[0;32m   1664\u001b[0m     encoding\u001b[38;5;241m=\u001b[39m\u001b[38;5;28mself\u001b[39m\u001b[38;5;241m.\u001b[39moptions\u001b[38;5;241m.\u001b[39mget(\u001b[38;5;124m\"\u001b[39m\u001b[38;5;124mencoding\u001b[39m\u001b[38;5;124m\"\u001b[39m, \u001b[38;5;28;01mNone\u001b[39;00m),\n\u001b[0;32m   1665\u001b[0m     compression\u001b[38;5;241m=\u001b[39m\u001b[38;5;28mself\u001b[39m\u001b[38;5;241m.\u001b[39moptions\u001b[38;5;241m.\u001b[39mget(\u001b[38;5;124m\"\u001b[39m\u001b[38;5;124mcompression\u001b[39m\u001b[38;5;124m\"\u001b[39m, \u001b[38;5;28;01mNone\u001b[39;00m),\n\u001b[0;32m   1666\u001b[0m     memory_map\u001b[38;5;241m=\u001b[39m\u001b[38;5;28mself\u001b[39m\u001b[38;5;241m.\u001b[39moptions\u001b[38;5;241m.\u001b[39mget(\u001b[38;5;124m\"\u001b[39m\u001b[38;5;124mmemory_map\u001b[39m\u001b[38;5;124m\"\u001b[39m, \u001b[38;5;28;01mFalse\u001b[39;00m),\n\u001b[0;32m   1667\u001b[0m     is_text\u001b[38;5;241m=\u001b[39mis_text,\n\u001b[0;32m   1668\u001b[0m     errors\u001b[38;5;241m=\u001b[39m\u001b[38;5;28mself\u001b[39m\u001b[38;5;241m.\u001b[39moptions\u001b[38;5;241m.\u001b[39mget(\u001b[38;5;124m\"\u001b[39m\u001b[38;5;124mencoding_errors\u001b[39m\u001b[38;5;124m\"\u001b[39m, \u001b[38;5;124m\"\u001b[39m\u001b[38;5;124mstrict\u001b[39m\u001b[38;5;124m\"\u001b[39m),\n\u001b[0;32m   1669\u001b[0m     storage_options\u001b[38;5;241m=\u001b[39m\u001b[38;5;28mself\u001b[39m\u001b[38;5;241m.\u001b[39moptions\u001b[38;5;241m.\u001b[39mget(\u001b[38;5;124m\"\u001b[39m\u001b[38;5;124mstorage_options\u001b[39m\u001b[38;5;124m\"\u001b[39m, \u001b[38;5;28;01mNone\u001b[39;00m),\n\u001b[0;32m   1670\u001b[0m )\n\u001b[0;32m   1671\u001b[0m \u001b[38;5;28;01massert\u001b[39;00m \u001b[38;5;28mself\u001b[39m\u001b[38;5;241m.\u001b[39mhandles \u001b[38;5;129;01mis\u001b[39;00m \u001b[38;5;129;01mnot\u001b[39;00m \u001b[38;5;28;01mNone\u001b[39;00m\n\u001b[0;32m   1672\u001b[0m f \u001b[38;5;241m=\u001b[39m \u001b[38;5;28mself\u001b[39m\u001b[38;5;241m.\u001b[39mhandles\u001b[38;5;241m.\u001b[39mhandle\n",
      "File \u001b[1;32m~\\anaconda3\\Lib\\site-packages\\pandas\\io\\common.py:859\u001b[0m, in \u001b[0;36mget_handle\u001b[1;34m(path_or_buf, mode, encoding, compression, memory_map, is_text, errors, storage_options)\u001b[0m\n\u001b[0;32m    854\u001b[0m \u001b[38;5;28;01melif\u001b[39;00m \u001b[38;5;28misinstance\u001b[39m(handle, \u001b[38;5;28mstr\u001b[39m):\n\u001b[0;32m    855\u001b[0m     \u001b[38;5;66;03m# Check whether the filename is to be opened in binary mode.\u001b[39;00m\n\u001b[0;32m    856\u001b[0m     \u001b[38;5;66;03m# Binary mode does not support 'encoding' and 'newline'.\u001b[39;00m\n\u001b[0;32m    857\u001b[0m     \u001b[38;5;28;01mif\u001b[39;00m ioargs\u001b[38;5;241m.\u001b[39mencoding \u001b[38;5;129;01mand\u001b[39;00m \u001b[38;5;124m\"\u001b[39m\u001b[38;5;124mb\u001b[39m\u001b[38;5;124m\"\u001b[39m \u001b[38;5;129;01mnot\u001b[39;00m \u001b[38;5;129;01min\u001b[39;00m ioargs\u001b[38;5;241m.\u001b[39mmode:\n\u001b[0;32m    858\u001b[0m         \u001b[38;5;66;03m# Encoding\u001b[39;00m\n\u001b[1;32m--> 859\u001b[0m         handle \u001b[38;5;241m=\u001b[39m \u001b[38;5;28mopen\u001b[39m(\n\u001b[0;32m    860\u001b[0m             handle,\n\u001b[0;32m    861\u001b[0m             ioargs\u001b[38;5;241m.\u001b[39mmode,\n\u001b[0;32m    862\u001b[0m             encoding\u001b[38;5;241m=\u001b[39mioargs\u001b[38;5;241m.\u001b[39mencoding,\n\u001b[0;32m    863\u001b[0m             errors\u001b[38;5;241m=\u001b[39merrors,\n\u001b[0;32m    864\u001b[0m             newline\u001b[38;5;241m=\u001b[39m\u001b[38;5;124m\"\u001b[39m\u001b[38;5;124m\"\u001b[39m,\n\u001b[0;32m    865\u001b[0m         )\n\u001b[0;32m    866\u001b[0m     \u001b[38;5;28;01melse\u001b[39;00m:\n\u001b[0;32m    867\u001b[0m         \u001b[38;5;66;03m# Binary mode\u001b[39;00m\n\u001b[0;32m    868\u001b[0m         handle \u001b[38;5;241m=\u001b[39m \u001b[38;5;28mopen\u001b[39m(handle, ioargs\u001b[38;5;241m.\u001b[39mmode)\n",
      "\u001b[1;31mFileNotFoundError\u001b[0m: [Errno 2] No such file or directory: ''"
     ]
    }
   ],
   "source": [
    "extrato = data_frame().drop(data_frame().index[[2, 60, 69, 72, 74, 78, 87]])\n",
    "extrato.head()"
   ]
  },
  {
   "cell_type": "code",
   "execution_count": 7,
   "id": "8ad20c48",
   "metadata": {},
   "outputs": [
    {
     "ename": "NameError",
     "evalue": "name 'extrato' is not defined",
     "output_type": "error",
     "traceback": [
      "\u001b[1;31m---------------------------------------------------------------------------\u001b[0m",
      "\u001b[1;31mNameError\u001b[0m                                 Traceback (most recent call last)",
      "Cell \u001b[1;32mIn[7], line 3\u001b[0m\n\u001b[0;32m      1\u001b[0m plt\u001b[38;5;241m.\u001b[39mstyle\u001b[38;5;241m.\u001b[39muse(\u001b[38;5;124m\"\u001b[39m\u001b[38;5;124mcyberpunk\u001b[39m\u001b[38;5;124m\"\u001b[39m)\n\u001b[0;32m      2\u001b[0m plt\u001b[38;5;241m.\u001b[39mfigure(figsize \u001b[38;5;241m=\u001b[39m (\u001b[38;5;241m13\u001b[39m, \u001b[38;5;241m7\u001b[39m))\n\u001b[1;32m----> 3\u001b[0m extrato\u001b[38;5;241m.\u001b[39mplot()\n\u001b[0;32m      4\u001b[0m plt\u001b[38;5;241m.\u001b[39msavefig(\u001b[38;5;124m'\u001b[39m\u001b[38;5;124mfluxo.png\u001b[39m\u001b[38;5;124m'\u001b[39m, dpi \u001b[38;5;241m=\u001b[39m \u001b[38;5;241m300\u001b[39m)\n",
      "\u001b[1;31mNameError\u001b[0m: name 'extrato' is not defined"
     ]
    },
    {
     "data": {
      "text/plain": [
       "<Figure size 1300x700 with 0 Axes>"
      ]
     },
     "metadata": {},
     "output_type": "display_data"
    }
   ],
   "source": [
    "plt.style.use(\"cyberpunk\")\n",
    "plt.figure(figsize = (13, 7))\n",
    "extrato.plot()\n",
    "plt.savefig('fluxo.png', dpi = 300)"
   ]
  },
  {
   "cell_type": "code",
   "execution_count": null,
   "id": "9e3d64a5",
   "metadata": {},
   "outputs": [],
   "source": [
    "def moving_avg(period):\n",
    "    \n",
    "    plt.figure(figsize = (13, 7))\n",
    "    extrato['Valor'].rolling(window = period).mean().plot(label = f'Média Móvel de {period} Dias')\n",
    "    extrato['Valor'].plot(label = 'Fluxo de saída')\n",
    "    plt.legend()\n",
    "    plt.show()"
   ]
  },
  {
   "cell_type": "code",
   "execution_count": null,
   "id": "32e9a425",
   "metadata": {},
   "outputs": [],
   "source": [
    "media7 = moving_avg(7)\n",
    "plt.savefig('media7.png', dpi = 300)"
   ]
  },
  {
   "cell_type": "code",
   "execution_count": null,
   "id": "33fe9d70",
   "metadata": {},
   "outputs": [],
   "source": [
    "fig = px.pie(values = extrato['Valor'], names = extrato['Categoria'])\n",
    "fig.show()"
   ]
  },
  {
   "cell_type": "code",
   "execution_count": null,
   "id": "0c0f5db8",
   "metadata": {},
   "outputs": [],
   "source": [
    "#ANÁLISE SEPARADA DO MERCADO:\n",
    "def get_supermercado():\n",
    "    \n",
    "    extrato = data_frame()\n",
    "    \n",
    "    x = len(extrato.index)\n",
    "    z = 0\n",
    "    valor = 0\n",
    "    valor_total = []\n",
    "    \n",
    "    while (z < x): \n",
    "        \n",
    "        if (extrato.at[z, 'Categoria'] == 'supermercado'):\n",
    "            valor = extrato.at[z, 'Valor']\n",
    "            valor_total.append(valor)\n",
    "            z += 1\n",
    "        else:\n",
    "            z += 1\n",
    "            \n",
    "    pagamento_recebido = sum(valor_total)\n",
    "    \n",
    "    return pagamento_recebido"
   ]
  },
  {
   "cell_type": "code",
   "execution_count": null,
   "id": "e79db4dc",
   "metadata": {},
   "outputs": [],
   "source": [
    "def get_values_supermercado():\n",
    "    \n",
    "    extrato = data_frame()\n",
    "    \n",
    "    x = len(extrato_index)\n",
    "    z = 0\n",
    "    valor = 0\n",
    "    valor_total = []\n",
    "    \n",
    "    while (z < x): \n",
    "        \n",
    "        if (extrato.at[z, 'Categoria'] == 'supermercado'):\n",
    "            valor = extrato.at[z, 'Valor']\n",
    "            valor_total.append(valor)\n",
    "            z += 1\n",
    "        else:\n",
    "            z += 1\n",
    "            \n",
    "    return valor_total"
   ]
  },
  {
   "cell_type": "code",
   "execution_count": null,
   "id": "49cc6a2e",
   "metadata": {},
   "outputs": [],
   "source": [
    "def count_list(list):\n",
    "    \n",
    "    count = 0\n",
    "    counts = []\n",
    "    \n",
    "    for element in list:\n",
    "        count += 1\n",
    "        counts.append(count)\n",
    "        \n",
    "    return counts"
   ]
  },
  {
   "cell_type": "code",
   "execution_count": null,
   "id": "e1de9fd8",
   "metadata": {},
   "outputs": [],
   "source": [
    "def data_frame_supermercado():\n",
    "    \n",
    "    df = pd.DataFrame({'Valor': get_values_supermercado()}, index = count_list(get_values_supermercado()))\n",
    "    \n",
    "    return df"
   ]
  },
  {
   "cell_type": "code",
   "execution_count": null,
   "id": "3138e152",
   "metadata": {},
   "outputs": [],
   "source": [
    "data_frame_supermercado().plot()"
   ]
  },
  {
   "cell_type": "code",
   "execution_count": null,
   "id": "886e9be8",
   "metadata": {},
   "outputs": [],
   "source": [
    "#ANÁLISE SEPARADA DO RESTAURANTE:\n",
    "def get_restaurante():\n",
    "    \n",
    "    extrato = data_frame()\n",
    "    \n",
    "    x = len(extrato.index)\n",
    "    z = 0\n",
    "    valor = 0\n",
    "    valor_total = []\n",
    "    \n",
    "    while (z < x): \n",
    "        \n",
    "        if (extrato.at[z, 'Categoria'] == 'restaurante'):\n",
    "            valor = extrato.at[z, 'Valor']\n",
    "            valor_total.append(valor)\n",
    "            z += 1\n",
    "        else:\n",
    "            z += 1\n",
    "            \n",
    "    pagamento_recebido = sum(valor_total)\n",
    "    \n",
    "    return pagamento_recebido"
   ]
  },
  {
   "cell_type": "code",
   "execution_count": null,
   "id": "dfa9cc45",
   "metadata": {},
   "outputs": [],
   "source": [
    "def get_values_restaurante():\n",
    "    \n",
    "    extrato = data_frame()\n",
    "    \n",
    "    x = len(extrato_index)\n",
    "    z = 0\n",
    "    valor = 0\n",
    "    valor_total = []\n",
    "    \n",
    "    while (z < x): \n",
    "        \n",
    "        if (extrato.at[z, 'Categoria'] == 'restaurante'):\n",
    "            valor = extrato.at[z, 'Valor']\n",
    "            valor_total.append(valor)\n",
    "            z += 1\n",
    "        else:\n",
    "            z += 1\n",
    "            \n",
    "    return valor_total"
   ]
  },
  {
   "cell_type": "code",
   "execution_count": null,
   "id": "e6c36cb5",
   "metadata": {},
   "outputs": [],
   "source": [
    "def data_frame_restaurante():\n",
    "    \n",
    "    df = pd.DataFrame({'Valor': get_values_restaurante()}, index = count_list(get_values_restaurante()))\n",
    "    \n",
    "    return df"
   ]
  },
  {
   "cell_type": "code",
   "execution_count": null,
   "id": "f77332d1",
   "metadata": {},
   "outputs": [],
   "source": [
    "data_frame_restaurante().plot()"
   ]
  },
  {
   "cell_type": "code",
   "execution_count": null,
   "id": "3053805a",
   "metadata": {},
   "outputs": [],
   "source": [
    "#ANÁLISE SEPARADA DO TRANSPORTE:\n",
    "def get_transporte():\n",
    "    \n",
    "    extrato = data_frame()\n",
    "    \n",
    "    x = len(extrato.index)\n",
    "    z = 0\n",
    "    valor = 0\n",
    "    valor_total = []\n",
    "    \n",
    "    while (z < x): \n",
    "        \n",
    "        if (extrato.at[z, 'Categoria'] == 'transporte'):\n",
    "            valor = extrato.at[z, 'Valor']\n",
    "            valor_total.append(valor)\n",
    "            z += 1\n",
    "        else:\n",
    "            z += 1\n",
    "            \n",
    "    pagamento_recebido = sum(valor_total)\n",
    "    \n",
    "    return pagamento_recebido"
   ]
  },
  {
   "cell_type": "code",
   "execution_count": null,
   "id": "2c4ce697",
   "metadata": {},
   "outputs": [],
   "source": [
    "def get_values_transporte():\n",
    "    \n",
    "    extrato = data_frame()\n",
    "    \n",
    "    x = len(extrato_index)\n",
    "    z = 0\n",
    "    valor = 0\n",
    "    valor_total = []\n",
    "    \n",
    "    while (z < x): \n",
    "        \n",
    "        if (extrato.at[z, 'Categoria'] == 'restaurante'):\n",
    "            valor = extrato.at[z, 'Valor']\n",
    "            valor_total.append(valor)\n",
    "            z += 1\n",
    "        else:\n",
    "            z += 1\n",
    "            \n",
    "    return valor_total"
   ]
  },
  {
   "cell_type": "code",
   "execution_count": null,
   "id": "93a7d624",
   "metadata": {},
   "outputs": [],
   "source": [
    "def data_frame_transporte():\n",
    "    \n",
    "    df = pd.DataFrame({'Valor': get_values_transporte()}, index = count_list(get_values_transporte()))\n",
    "    \n",
    "    return df"
   ]
  },
  {
   "cell_type": "code",
   "execution_count": null,
   "id": "2810deef",
   "metadata": {},
   "outputs": [],
   "source": [
    "data_frame_transporte().plot()"
   ]
  },
  {
   "cell_type": "code",
   "execution_count": null,
   "id": "7330505f",
   "metadata": {},
   "outputs": [],
   "source": [
    "#ANÁLISE SEPARADA DA CASA:\n",
    "def get_casa():\n",
    "    \n",
    "    extrato = data_frame()\n",
    "    \n",
    "    x = len(extrato.index)\n",
    "    z = 0\n",
    "    valor = 0\n",
    "    valor_total = []\n",
    "    \n",
    "    while (z < x): \n",
    "        \n",
    "        if (extrato.at[z, 'Categoria'] == 'casa'):\n",
    "            valor = extrato.at[z, 'Valor']\n",
    "            valor_total.append(valor)\n",
    "            z += 1\n",
    "        else:\n",
    "            z += 1\n",
    "            \n",
    "    pagamento_recebido = sum(valor_total)\n",
    "    \n",
    "    return pagamento_recebido"
   ]
  },
  {
   "cell_type": "code",
   "execution_count": null,
   "id": "bfd06926",
   "metadata": {},
   "outputs": [],
   "source": [
    "def get_values_casa():\n",
    "    \n",
    "    extrato = data_frame()\n",
    "    \n",
    "    x = len(extrato_index)\n",
    "    z = 0\n",
    "    valor = 0\n",
    "    valor_total = []\n",
    "    \n",
    "    while (z < x): \n",
    "        \n",
    "        if (extrato.at[z, 'Categoria'] == 'casa'):\n",
    "            valor = extrato.at[z, 'Valor']\n",
    "            valor_total.append(valor)\n",
    "            z += 1\n",
    "        else:\n",
    "            z += 1\n",
    "            \n",
    "    return valor_total"
   ]
  },
  {
   "cell_type": "code",
   "execution_count": null,
   "id": "a5aefcd5",
   "metadata": {},
   "outputs": [],
   "source": [
    "def data_frame_casa():\n",
    "    \n",
    "    df = pd.DataFrame({'Valor': get_values_casa()}, index = count_list(get_values_casa()))\n",
    "    \n",
    "    return df"
   ]
  },
  {
   "cell_type": "code",
   "execution_count": null,
   "id": "b9b6ee40",
   "metadata": {},
   "outputs": [],
   "source": [
    "data_frame_casa().plot()"
   ]
  },
  {
   "cell_type": "code",
   "execution_count": null,
   "id": "e106a205",
   "metadata": {},
   "outputs": [],
   "source": [
    "#ANÁLISE SEPARADA DO VESTUÁRIO:\n",
    "def get_vestuario():\n",
    "    \n",
    "    extrato = data_frame()\n",
    "    \n",
    "    x = len(extrato.index)\n",
    "    z = 0\n",
    "    valor = 0\n",
    "    valor_total = []\n",
    "    \n",
    "    while (z < x): \n",
    "        \n",
    "        if (extrato.at[z, 'Categoria'] == 'vestuário'):\n",
    "            valor = extrato.at[z, 'Valor']\n",
    "            valor_total.append(valor)\n",
    "            z += 1\n",
    "        else:\n",
    "            z += 1\n",
    "            \n",
    "    pagamento_recebido = sum(valor_total)\n",
    "    \n",
    "    return pagamento_recebido"
   ]
  },
  {
   "cell_type": "code",
   "execution_count": null,
   "id": "4ff398f8",
   "metadata": {},
   "outputs": [],
   "source": [
    "def get_values_vestuario():\n",
    "    \n",
    "    extrato = data_frame()\n",
    "    \n",
    "    x = len(extrato_index)\n",
    "    z = 0\n",
    "    valor = 0\n",
    "    valor_total = []\n",
    "    \n",
    "    while (z < x): \n",
    "        \n",
    "        if (extrato.at[z, 'Categoria'] == 'vestuario'):\n",
    "            valor = extrato.at[z, 'Valor']\n",
    "            valor_total.append(valor)\n",
    "            z += 1\n",
    "        else:\n",
    "            z += 1\n",
    "            \n",
    "    return valor_total"
   ]
  },
  {
   "cell_type": "code",
   "execution_count": null,
   "id": "73e64a99",
   "metadata": {},
   "outputs": [],
   "source": [
    "def data_frame_vestuario():\n",
    "    \n",
    "    df = pd.DataFrame({'Valor': get_values_vestuario()}, index = count_list(get_values_vestuario()))\n",
    "    \n",
    "    return df"
   ]
  },
  {
   "cell_type": "code",
   "execution_count": null,
   "id": "c6e27f22",
   "metadata": {},
   "outputs": [],
   "source": [
    "data_frame_vestuario().plot()"
   ]
  },
  {
   "cell_type": "markdown",
   "id": "a8466847",
   "metadata": {},
   "source": [
    "# Diagnóstico final"
   ]
  },
  {
   "cell_type": "code",
   "execution_count": null,
   "id": "80d93e1e",
   "metadata": {},
   "outputs": [],
   "source": [
    "#Total gasto nos últimos três meses (exclusão de março, pois a fatura é postecipada)\n",
    "total = sum(extrato['Valor'])\n",
    "total"
   ]
  },
  {
   "cell_type": "code",
   "execution_count": null,
   "id": "45305cd2",
   "metadata": {},
   "outputs": [],
   "source": [
    "#Total em vestuário\n",
    "total_vestuario = sum(get_valores_vestuario())\n",
    "total_vestuario"
   ]
  },
  {
   "cell_type": "code",
   "execution_count": null,
   "id": "a4e6536c",
   "metadata": {},
   "outputs": [],
   "source": [
    "#Média vestuário\n",
    "data_frame_vestuario().mean()"
   ]
  },
  {
   "cell_type": "code",
   "execution_count": null,
   "id": "8f272597",
   "metadata": {},
   "outputs": [],
   "source": [
    "#Total em transporte\n",
    "total_transporte = sum(get_values_transporte())\n",
    "total_transporte"
   ]
  },
  {
   "cell_type": "code",
   "execution_count": null,
   "id": "a22ff050",
   "metadata": {},
   "outputs": [],
   "source": [
    "#Média transporte\n",
    "data_frame_transporte().mean()"
   ]
  },
  {
   "cell_type": "code",
   "execution_count": null,
   "id": "c4bb06ef",
   "metadata": {
    "collapsed": true
   },
   "outputs": [],
   "source": [
    "#Total em supermercado\n",
    "total_supermercado = sum(get_values_supermercado())\n",
    "total_supermercado"
   ]
  },
  {
   "cell_type": "code",
   "execution_count": null,
   "id": "c23f8d49",
   "metadata": {},
   "outputs": [],
   "source": [
    "#Média supermercado\n",
    "data_frame_supermercado().mean()"
   ]
  },
  {
   "cell_type": "code",
   "execution_count": null,
   "id": "4e06c0f3",
   "metadata": {},
   "outputs": [],
   "source": [
    "#Total em casa\n",
    "total_casa = sum(get_values_casa())\n",
    "total_casa"
   ]
  },
  {
   "cell_type": "code",
   "execution_count": null,
   "id": "77d39c85",
   "metadata": {},
   "outputs": [],
   "source": [
    "#Média casa\n",
    "data_frame_casa().mean()"
   ]
  },
  {
   "cell_type": "code",
   "execution_count": null,
   "id": "a6abdcaa",
   "metadata": {},
   "outputs": [],
   "source": [
    "#Total em restaurante\n",
    "total_restaurante = sum(get_values_restaurante())\n",
    "total_restaurante"
   ]
  },
  {
   "cell_type": "code",
   "execution_count": null,
   "id": "c0717d2d",
   "metadata": {},
   "outputs": [],
   "source": [
    "#Média restaurante\n",
    "data_frame_restaurante().mean()"
   ]
  },
  {
   "cell_type": "code",
   "execution_count": null,
   "id": "d951e762",
   "metadata": {},
   "outputs": [],
   "source": [
    "#Média de gasto diário\n",
    "extrato['Valor'].mean()"
   ]
  },
  {
   "cell_type": "code",
   "execution_count": null,
   "id": "e67015c5",
   "metadata": {},
   "outputs": [],
   "source": [
    "#Valores recorrentes (provaveis custos fixos)\n",
    "extrato['Valor'].mode()"
   ]
  },
  {
   "cell_type": "code",
   "execution_count": null,
   "id": "9a708861",
   "metadata": {},
   "outputs": [],
   "source": [
    "#Projeção superficial do custo necessário projetado\n",
    "academia = 119.90\n",
    "custo_proj = get_transporte() + get_supermercado() + get_casa() + get_restaurante() + 3*academia\n",
    "custo_proj"
   ]
  },
  {
   "cell_type": "code",
   "execution_count": null,
   "id": "a99a02e4",
   "metadata": {},
   "outputs": [],
   "source": [
    "#Provável excesso\n",
    "total - custo_proj"
   ]
  },
  {
   "cell_type": "code",
   "execution_count": null,
   "id": "e6f435b3",
   "metadata": {},
   "outputs": [],
   "source": [
    "#Média do custo projetado nos últimos três meses\n",
    "custo_proj / 3"
   ]
  },
  {
   "cell_type": "code",
   "execution_count": null,
   "id": "bac2c44e",
   "metadata": {},
   "outputs": [],
   "source": [
    "#Média excesso mensal nos últimos três meses\n",
    "(total - custo_proj) / 3"
   ]
  },
  {
   "cell_type": "markdown",
   "id": "8a439290",
   "metadata": {},
   "source": [
    "# Consultando carteira ETH"
   ]
  },
  {
   "cell_type": "code",
   "execution_count": null,
   "id": "339dc984",
   "metadata": {},
   "outputs": [],
   "source": [
    "from web3 import Web3"
   ]
  },
  {
   "cell_type": "code",
   "execution_count": null,
   "id": "c610eaca",
   "metadata": {},
   "outputs": [],
   "source": [
    "#Refazer mainnet\n",
    "\n",
    "infura_url = 'https://mainnet.infura.io/v3/0'\n",
    "web3 = Web3(Web3.HTTPProvider(infura_url))"
   ]
  },
  {
   "cell_type": "code",
   "execution_count": null,
   "id": "126dcd0b",
   "metadata": {},
   "outputs": [],
   "source": [
    "web3.isConnected()"
   ]
  },
  {
   "cell_type": "code",
   "execution_count": null,
   "id": "c1f92908",
   "metadata": {},
   "outputs": [],
   "source": [
    "balance = web3.eth.getBalance('')\n",
    "web3.from"
   ]
  },
  {
   "cell_type": "markdown",
   "id": "71f7a5d4",
   "metadata": {},
   "source": [
    "# Criando PDF"
   ]
  },
  {
   "cell_type": "code",
   "execution_count": null,
   "id": "8d030485",
   "metadata": {},
   "outputs": [],
   "source": [
    "class PDF(FPDF):\n",
    "    def header(self):"
   ]
  }
 ],
 "metadata": {
  "kernelspec": {
   "display_name": "Python 3 (ipykernel)",
   "language": "python",
   "name": "python3"
  },
  "language_info": {
   "codemirror_mode": {
    "name": "ipython",
    "version": 3
   },
   "file_extension": ".py",
   "mimetype": "text/x-python",
   "name": "python",
   "nbconvert_exporter": "python",
   "pygments_lexer": "ipython3",
   "version": "3.11.5"
  }
 },
 "nbformat": 4,
 "nbformat_minor": 5
}
